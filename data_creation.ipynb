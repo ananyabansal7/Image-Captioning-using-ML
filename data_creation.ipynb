{
 "cells": [
  {
   "cell_type": "code",
   "execution_count": 36,
   "metadata": {},
   "outputs": [],
   "source": [
    "import pandas as pd\n",
    "import numpy as np"
   ]
  },
  {
   "cell_type": "code",
   "execution_count": 46,
   "metadata": {},
   "outputs": [
    {
     "name": "stdout",
     "output_type": "stream",
     "text": [
      "(6000, 1)\n",
      "6000\n"
     ]
    }
   ],
   "source": [
    "#train \n",
    "\n",
    "train_names = pd.read_csv(\"./Flickr8k_text/Flickr_8k.trainImages.txt\", sep = '\\n', header = None)\n",
    "print (train_names.shape)\n",
    "\n",
    "namedata = {}\n",
    "for ix in range(train_names.shape[0]):\n",
    "    namedata[train_names[0][ix]]=[]\n",
    "    \n",
    "print(len(namedata))\n",
    "    "
   ]
  },
  {
   "cell_type": "code",
   "execution_count": 47,
   "metadata": {},
   "outputs": [
    {
     "name": "stdout",
     "output_type": "stream",
     "text": [
      "(1000, 1)\n",
      "7000\n"
     ]
    }
   ],
   "source": [
    "#test\n",
    "test_names = pd.read_csv(\"./Flickr8k_text/Flickr_8k.testImages.txt\", sep = '\\n', header = None)\n",
    "print (test_names.shape)\n",
    "\n",
    "\n",
    "for ix in range(test_names.shape[0]):\n",
    "    namedata[test_names[0][ix]]=[]\n",
    "    \n",
    "print(len(namedata))"
   ]
  },
  {
   "cell_type": "code",
   "execution_count": 79,
   "metadata": {},
   "outputs": [
    {
     "name": "stdout",
     "output_type": "stream",
     "text": [
      "(1000, 1)\n",
      "8000\n"
     ]
    }
   ],
   "source": [
    "#validation\n",
    "val_names = pd.read_csv(\"./Flickr8k_text/Flickr_8k.devImages.txt\", sep = '\\n', header = None)\n",
    "print (val_names.shape)\n",
    "\n",
    "\n",
    "for ix in range(val_names.shape[0]):\n",
    "    namedata[val_names[0][ix]]=[]\n",
    "    \n",
    "print(len(namedata))"
   ]
  },
  {
   "cell_type": "code",
   "execution_count": 86,
   "metadata": {},
   "outputs": [
    {
     "name": "stdout",
     "output_type": "stream",
     "text": [
      "(40460, 1)\n"
     ]
    }
   ],
   "source": [
    "train_captions = pd.read_csv(\"./Flickr8k_text/Flickr8k.token.txt\", sep = '\\n', header = None)\n",
    "print(train_captions.shape)\n",
    "\n",
    "for ix in range(train_captions.shape[0]):\n",
    "    review = train_captions[0][ix]\n",
    "    is_name = review.split('#')[0]\n",
    "  #  print(is_name)\n",
    "    is_caption = review.split('#')[1].split('\\t')[1]\n",
    "  #  print(is_caption)\n",
    "    if namedata.get(is_name) is None:\n",
    "        continue\n",
    "    else:\n",
    "        namedata[is_name].append(is_caption)\n",
    "        \n",
    "\n",
    "#print(namedata)"
   ]
  },
  {
   "cell_type": "code",
   "execution_count": 89,
   "metadata": {},
   "outputs": [],
   "source": [
    "fi = open('train_dat.text','w')\n",
    "for key in train_names[0]:\n",
    "    for re in namedata[key]:\n",
    "        cap = key + \"\\t<start> \"+ re + \"<end>\\n\"\n",
    "        fi.write(cap)\n",
    "fi.close()\n"
   ]
  },
  {
   "cell_type": "code",
   "execution_count": 90,
   "metadata": {},
   "outputs": [],
   "source": [
    "fi = open('test_dat.text','w')\n",
    "for key in test_names[0]:\n",
    "    for re in namedata[key]:\n",
    "        cap = key + \"\\t<start> \"+ re + \"<end>\\n\"\n",
    "        fi.write(cap)\n",
    "fi.close()"
   ]
  },
  {
   "cell_type": "code",
   "execution_count": 91,
   "metadata": {},
   "outputs": [],
   "source": [
    "fi = open('val_dat.text','w')\n",
    "for key in val_names[0]:\n",
    "    for re in namedata[key]:\n",
    "        cap = key + \"\\t<start> \"+ re + \"<end>\\n\"\n",
    "        fi.write(cap)\n",
    "fi.close()"
   ]
  },
  {
   "cell_type": "code",
   "execution_count": null,
   "metadata": {},
   "outputs": [],
   "source": []
  }
 ],
 "metadata": {
  "kernelspec": {
   "display_name": "Python 3",
   "language": "python",
   "name": "python3"
  },
  "language_info": {
   "codemirror_mode": {
    "name": "ipython",
    "version": 3
   },
   "file_extension": ".py",
   "mimetype": "text/x-python",
   "name": "python",
   "nbconvert_exporter": "python",
   "pygments_lexer": "ipython3",
   "version": "3.7.0"
  }
 },
 "nbformat": 4,
 "nbformat_minor": 2
}
